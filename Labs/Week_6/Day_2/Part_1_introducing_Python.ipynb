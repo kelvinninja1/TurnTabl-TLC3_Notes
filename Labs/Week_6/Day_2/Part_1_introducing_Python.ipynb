{
 "cells": [
  {
   "cell_type": "markdown",
   "metadata": {},
   "source": [
    "# Introducing Python"
   ]
  },
  {
   "cell_type": "markdown",
   "metadata": {},
   "source": [
    "## Question 1"
   ]
  },
  {
   "cell_type": "code",
   "execution_count": 1,
   "metadata": {},
   "outputs": [
    {
     "name": "stdout",
     "output_type": "stream",
     "text": [
      "Hello world!\n"
     ]
    }
   ],
   "source": [
    "# print(\"Hello World!\")\n",
    "world = \"world\"\n",
    "print(\"Hello \" + world + \"!\")"
   ]
  },
  {
   "cell_type": "markdown",
   "metadata": {},
   "source": [
    "## Question 2"
   ]
  },
  {
   "cell_type": "code",
   "execution_count": 2,
   "metadata": {},
   "outputs": [
    {
     "name": "stdout",
     "output_type": "stream",
     "text": [
      "Please enter a number: 6\n",
      "6 is even.\n"
     ]
    }
   ],
   "source": [
    "number = int(input(\"Please enter a number: \"))\n",
    "if (number % 2 == 0):\n",
    "    print(str(number) + \" is even.\")\n",
    "else:\n",
    "    print(str(number) + \" is odd.\")"
   ]
  },
  {
   "cell_type": "markdown",
   "metadata": {},
   "source": [
    "## Question 3"
   ]
  },
  {
   "cell_type": "code",
   "execution_count": 3,
   "metadata": {},
   "outputs": [
    {
     "name": "stdout",
     "output_type": "stream",
     "text": [
      "Kelvin\n",
      "23\n",
      "My name is Kelvin and I am 23 years old.\n"
     ]
    }
   ],
   "source": [
    "my_name = \"Kelvin\"\n",
    "my_age = 23;\n",
    "print(my_name)\n",
    "print(my_age)\n",
    "print(\"My name is {} and I am {} years old.\".format(my_name,my_age))"
   ]
  },
  {
   "cell_type": "markdown",
   "metadata": {},
   "source": [
    "## Question 4"
   ]
  },
  {
   "cell_type": "code",
   "execution_count": null,
   "metadata": {},
   "outputs": [],
   "source": [
    "import random\n",
    "req_random_num = random.randint(0,1000)\n",
    "print(req_random_num)\n",
    "while True:\n",
    "    randy_num = int(input(\"Please enter a random number: \"))\n",
    "    if randy_num != req_random_num:\n",
    "        print(\"Sorry, wrong number. Please try again!\")\n",
    "        randy_num\n",
    "    else:\n",
    "        print(\"Yayyy!,you got it right\")\n",
    "        break;"
   ]
  }
 ],
 "metadata": {
  "kernelspec": {
   "display_name": "Python 3",
   "language": "python",
   "name": "python3"
  },
  "language_info": {
   "codemirror_mode": {
    "name": "ipython",
    "version": 3
   },
   "file_extension": ".py",
   "mimetype": "text/x-python",
   "name": "python",
   "nbconvert_exporter": "python",
   "pygments_lexer": "ipython3",
   "version": "3.8.5"
  }
 },
 "nbformat": 4,
 "nbformat_minor": 4
}
